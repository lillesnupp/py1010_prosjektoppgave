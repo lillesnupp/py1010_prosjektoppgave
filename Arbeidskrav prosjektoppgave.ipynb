{
 "cells": [
  {
   "cell_type": "markdown",
   "id": "2e9b2dc5-56c2-42c9-87a4-2dce246cae42",
   "metadata": {},
   "source": [
    "# Prosjektoppgave i PY1010\n",
    "\n",
    "## Oppgave support dashboard\n",
    "\n",
    "Analyser av data som er loggført for supportavdelingen ved telefonselskapet MORSE.\n",
    "\n",
    "Filen 'support_uke_24.xlsx' Kolonne 1: Ukedag henvendelsen fant sted Kolonne 2: Klokkeslett kunden tok kontakt med supportavdelingen Kolonne 3: Samtalens varighet Kolonne 4: Kundens tilfredshet (skala fra 1-10 hvor 1 indikerer svært misfornøyd og 10 indikerer svært fornøyd).\n"
   ]
  },
  {
   "cell_type": "markdown",
   "id": "8b215564-c3fb-4ec6-a508-25c948b3456d",
   "metadata": {},
   "source": [
    "### Del a) \n",
    "\n",
    "Skriv et program som leser inn filen ‘support_uke_24.xlsx’ og lagrer data fra kolonne 1 i en array med variablenavn ‘u_dag’, dataen i kolonne 2 lagres i arrayen ‘kl_slett’, data i kolonne 3 lagres i arrayen ‘varighet’ og dataen i kolonne 4 lagres i arrayen ‘score’. \n",
    "Merk: filen ‘support_uke_24.xlsx’ må ligge i samme mappe som Python-programmet ditt.\n"
   ]
  },
  {
   "cell_type": "code",
   "execution_count": 1,
   "id": "23f143bb-bd7d-4ad2-85ec-886fc10d860a",
   "metadata": {},
   "outputs": [],
   "source": [
    "import numpy as np\n",
    "import pandas as pd\n",
    "import matplotlib.pyplot as plt\n",
    "\n",
    "#les inn excel-fil\n",
    "data = pd.read_excel(\"support_uke_24.xlsx\")\n",
    "\n",
    "#lagrer data fra excel-fil i kolonner\n",
    "u_dag = data['Ukedag'].values\n",
    "kl_slett = data['Klokkeslett'].values\n",
    "varighet = data['Varighet'].values\n",
    "score = data['Tilfredshet'].values\n",
    "\n",
    "#skriv ut for å verifisere\n",
    "#print(\"u_dag:\", u_dag)\n",
    "#print(\"kl_slett:\", kl_slett)\n",
    "#print(\"varighet:\", varighet)\n",
    "#print(\"score:\", score)"
   ]
  },
  {
   "cell_type": "markdown",
   "id": "5998503a-269b-40d4-adfe-630871ec2f52",
   "metadata": {},
   "source": [
    "### Del b) \n",
    "\n",
    "Skriv et program som finner antall henvendelser for hver de 5 ukedagene. Resultatet visualiseres ved bruk av et søylediagram (stolpediagram)"
   ]
  },
  {
   "cell_type": "code",
   "execution_count": 2,
   "id": "b7ccefdb-6eb7-40b9-9042-359f95d6cd09",
   "metadata": {},
   "outputs": [
    {
     "data": {
      "image/png": "[encoded data removed]",
      "text/plain": [
       "<Figure size 640x480 with 1 Axes>"
      ]
     },
     "metadata": {},
     "output_type": "display_data"
    }
   ],
   "source": [
    "import numpy as np\n",
    "import pandas as pd\n",
    "import matplotlib.pyplot as plt\n",
    "\n",
    "#les inn excel-fil\n",
    "data = pd.read_excel(\"support_uke_24.xlsx\")\n",
    "\n",
    "#lagrer data fra excel-fil i kolonner\n",
    "u_dag = data['Ukedag'].values\n",
    "kl_slett = data['Klokkeslett'].values\n",
    "varighet = data['Varighet'].values\n",
    "score = data['Tilfredshet'].values\n",
    "\n",
    "#teller antall henvendelser per ukedag\n",
    "henvendelse_per_ukedag = data['Ukedag'].value_counts().reindex(['Mandag', 'Tirsdag', 'Onsdag', 'Torsdag', 'Fredag'])\n",
    "\n",
    "#viser resultat i søylediagram\n",
    "henvendelse_per_ukedag.plot(kind='bar')\n",
    "\n",
    "\n",
    "#vis søylediagrammet, legg til tittel og label, fjern label, roter label\n",
    "plt.title('Antall henvendelser per ukedag')\n",
    "plt.ylabel('Antall henvendelser')\n",
    "plt.xlabel('')\n",
    "plt.xticks(rotation=0)\n",
    "plt.show()\n"
   ]
  },
  {
   "cell_type": "markdown",
   "id": "c6f002ac-c936-4ed7-8c5d-625864f14af7",
   "metadata": {},
   "source": [
    "### Del c)\n",
    "\n",
    "Skriv et program som finner minste og lengste samtaletid som er loggført for uke 24. Svaret skrives til skjerm med informativ tekst."
   ]
  },
  {
   "cell_type": "code",
   "execution_count": 3,
   "id": "7c0326b5-8944-4fcd-a55a-4fba0ecfdf76",
   "metadata": {},
   "outputs": [
    {
     "name": "stdout",
     "output_type": "stream",
     "text": [
      "Av henvendelsene som er loggført for uke 24 er minste samtaletid 00:00:59 og lengste samtaletid er 00:11:28\n"
     ]
    }
   ],
   "source": [
    "import numpy as np\n",
    "import pandas as pd\n",
    "import matplotlib.pyplot as plt\n",
    "\n",
    "#les inn excel-fil\n",
    "data = pd.read_excel(\"support_uke_24.xlsx\")\n",
    "\n",
    "#lagrer data fra excel-fil i kolonner\n",
    "u_dag = data['Ukedag'].values\n",
    "kl_slett = data['Klokkeslett'].values\n",
    "varighet = data['Varighet'].values\n",
    "score = data['Tilfredshet'].values\n",
    "\n",
    "#beregner minste og lengste samtaletid\n",
    "minste_samtaletid = data[\"Varighet\"].min()\n",
    "lengste_samtaletid = data[\"Varighet\"].max()\n",
    "\n",
    "print(\"Av henvendelsene som er loggført for uke 24 er minste samtaletid\", minste_samtaletid, \"og lengste samtaletid er\", lengste_samtaletid)"
   ]
  },
  {
   "cell_type": "markdown",
   "id": "016c0475-7bd5-442e-8899-bcc473162c2b",
   "metadata": {},
   "source": [
    "### Del d)\n",
    "\n",
    "Skriv et program som regner ut gjennomsnittlig samtaletid basert på alle henvendelser i uke 24."
   ]
  },
  {
   "cell_type": "code",
   "execution_count": 2,
   "id": "852c12bc-f2b9-4f6c-a993-b55b74e43304",
   "metadata": {},
   "outputs": [
    {
     "name": "stdout",
     "output_type": "stream",
     "text": [
      "Gjennomsnittlig samtaletid for alle henvendelser i uke 24: 400 sekunder eller 00:06:40\n"
     ]
    }
   ],
   "source": [
    "import numpy as np\n",
    "import pandas as pd\n",
    "import matplotlib.pyplot as plt\n",
    "import datetime\n",
    "\n",
    "#les inn excel-fil\n",
    "data = pd.read_excel(\"support_uke_24.xlsx\")\n",
    "\n",
    "#funksjon som omgjør samtaletid til sekunder\n",
    "def func_tid_til_sekunder(tid):\n",
    "    hh, mm, ss = map(int, tid.split(\":\"))\n",
    "    return hh * 3600 + mm * 60 + ss\n",
    "\n",
    "#funksjon som omgjør fra sekunder tilbake til hh:mm:ss \n",
    "def func_sekunder_til_tid(sekunder):\n",
    "    hh = sekunder // 3600\n",
    "    mm = (sekunder % 3600) // 60\n",
    "    ss = sekunder % 60\n",
    "    return hh, mm, ss\n",
    "\n",
    "#hvis varighet er lagret som hh:mm:ss, konverter til sekunder\n",
    "if data['Varighet'].dtype == 'object':  \n",
    "    data['Varighet'] = data['Varighet'].apply(func_tid_til_sekunder)\n",
    "\n",
    "#beregn gjennomsnittlig samtaletid\n",
    "gj_snitt_varighet = data['Varighet'].mean()\n",
    "\n",
    "#hvis resultat er lagret som sekunder, konverter til hh:mm:ss\n",
    "if isinstance(gj_snitt_varighet, float):\n",
    "    gj_snitt_varighet_endret = func_sekunder_til_tid(int(gj_snitt_varighet))\n",
    "    time, minutt, sekund = gj_snitt_varighet_endret\n",
    "\n",
    "#vis resultatet\n",
    "print(\"Gjennomsnittlig samtaletid for alle henvendelser i uke 24:\", int(gj_snitt_varighet), \"sekunder eller \" f\"{(time):02}:{(minutt):02}:{(sekund):02}\")\n"
   ]
  },
  {
   "cell_type": "markdown",
   "id": "bebc3d9a-90c7-4c65-bd9f-3827791dc889",
   "metadata": {},
   "source": [
    "### Del e)\n",
    "\n",
    "Supportvaktene i MORSE er delt inn i 2-timers bolker: kl 08-10, kl 10-12, kl 12-14 og kl 14-16. Skriv et program som finner det totale antall henvendelser supportavdelingen mottok for hver av tidsrommene 08-10, 10-12, 12-14 og 14-16 for uke 24. Resultatet visualiseres ved bruk av et sektordiagram (kakediagram)."
   ]
  },
  {
   "cell_type": "code",
   "execution_count": 3,
   "id": "3235a538-7109-4934-b49d-c211f57fda32",
   "metadata": {},
   "outputs": [
    {
     "data": {
      "image/png": "[encoded data removed]",
      "text/plain": [
       "<Figure size 640x480 with 1 Axes>"
      ]
     },
     "metadata": {},
     "output_type": "display_data"
    }
   ],
   "source": [
    "import pandas as pd\n",
    "import matplotlib.pyplot as plt\n",
    "\n",
    "#les inn excel-fil\n",
    "data = pd.read_excel(\"support_uke_24.xlsx\")\n",
    "\n",
    "#funksjon for å finne hvilket tidsrom et klokkeslett er\n",
    "def func_finne_tidsrom(tid):\n",
    "    hh, mm = map(int, tid.split(\":\")[:2])  #henter timer og min\n",
    "    if 8 <= hh < 10:  #finner forekomster mellom kl 08-10\n",
    "        return \"08-10\"\n",
    "    elif 10 <= hh < 12:  #finner forekomster mellom kl 10-12\n",
    "        return \"10-12\"\n",
    "    elif 12 <= hh < 14:   #finner forekomster mellom kl 12-14\n",
    "        return \"12-14\"\n",
    "    elif 14 <= hh < 16:   #finner forekomster mellom kl 14-16\n",
    "        return \"14-16\"\n",
    " \n",
    "#sorterer henvendelser i tidsrom\n",
    "data['Tidsrom'] = data['Klokkeslett'].astype(str).apply(func_finne_tidsrom)\n",
    "\n",
    "#teller antall henvendelser per tidsrom\n",
    "henvendelser_per_tidsrom = data['Tidsrom'].value_counts().reindex(['08-10', '10-12', '12-14', '14-16'])\n",
    "\n",
    "#plotter sektordiagram\n",
    "henvendelser_per_tidsrom.plot(kind='pie', autopct='%1.0f%%', startangle = 90)\n",
    "\n",
    "#vis sektordiagrammet, legg til tittel, fjern label\n",
    "plt.title(\"Antall henvendelser per tidsrom for uke 24\")\n",
    "plt.ylabel('')\n",
    "plt.show()"
   ]
  },
  {
   "cell_type": "markdown",
   "id": "d2b35b53-35d5-4d77-8dca-14779cfcefa0",
   "metadata": {},
   "source": [
    "### Del f)\n",
    "\n",
    "Kundens tilfredshet loggføres som tall fra 1-10 hvor 1 indikerer svært misfornøyd og 10 indikerer svært fornøyd. Disse tilbakemeldingene skal så overføres til NPS-systemet (Net Promoter Score).az\n",
    "\n",
    "NPS-systemet er konstruert på følgende måte: Score 1-6 oppfattes som at kunden er negativ (vil trolig ikke anbefale MORSE til andre). Score 7-8 oppfattes som et nøytralt svar. Score 9-10 oppfattes som at kunden er positiv (vil trolig anbefale MORSE til andre).\n",
    "\n",
    "Supportavdelingens NPS beregnes som et tall, prosentandelen positive kunder minus prosentandelen negative kunder. Ved en formel kan dette gis slik:\n",
    "\n",
    "NPS = % positive kunder - % negative kunder\n",
    "\n",
    "<img src=\"NPS.png\" alt=\"Mitt diagram\" width=\"500\">\n",
    "\n",
    "Lag et program som regner ut supportavdelings NPS og skriver svaret til skjerm. Merk: Kunder som ikke har gitt tilbakemelding på tilfredshet, skal utelates fra utregningene."
   ]
  },
  {
   "cell_type": "code",
   "execution_count": 12,
   "id": "6a0e4cab-eb82-4292-a14b-4a67e48b3055",
   "metadata": {},
   "outputs": [
    {
     "name": "stdout",
     "output_type": "stream",
     "text": [
      "Supportavdelingens NPS er: 41.9\n"
     ]
    }
   ],
   "source": [
    "import pandas as pd\n",
    "import matplotlib.pyplot as plt\n",
    "\n",
    "#les inn excel-fil\n",
    "data = pd.read_excel(\"support_uke_24.xlsx\")\n",
    "\n",
    "#fjerner rader der en bestent kolonne har NaN-verdier, utelater kunder som ikke har gitt tilbakemelding\n",
    "rader_med_verdi = data.dropna(subset=['Tilfredshet'])\n",
    "\n",
    "#teller negative og positive kunder\n",
    "negative = rader_med_verdi[rader_med_verdi['Tilfredshet'] <= 6]\n",
    "positive = rader_med_verdi[rader_med_verdi['Tilfredshet'] >= 9]\n",
    "\n",
    "#teller totalt antall rader/kunder som har gitt tilfredshet-score\n",
    "totalt_ant = rader_med_verdi.shape[0]\n",
    "#print(totalt_ant)\n",
    "\n",
    "#regner ut prosent positive kunder\n",
    "prosent_positive = (positive.shape[0] / totalt_ant) * 100\n",
    "#print(prosent_positive)\n",
    "\n",
    "#regner ut prosent negative kunder\n",
    "prosent_negative = (negative.shape[0] / totalt_ant) *100\n",
    "#print(prosent_negative)\n",
    "\n",
    "#regner ut NPS som er positive minus negative\n",
    "NPS = prosent_positive - prosent_negative\n",
    "print(f\"Supportavdelingens NPS er: {NPS:.1f}\")"
   ]
  },
  {
   "cell_type": "code",
   "execution_count": null,
   "id": "73ce34aa-0702-473b-886b-c0a899180a95",
   "metadata": {},
   "outputs": [],
   "source": []
  }
 ],
 "metadata": {
  "kernelspec": {
   "display_name": "Python 3 (ipykernel)",
   "language": "python",
   "name": "python3"
  },
  "language_info": {
   "codemirror_mode": {
    "name": "ipython",
    "version": 3
   },
   "file_extension": ".py",
   "mimetype": "text/x-python",
   "name": "python",
   "nbconvert_exporter": "python",
   "pygments_lexer": "ipython3",
   "version": "3.12.7"
  }
 },
 "nbformat": 4,
 "nbformat_minor": 5
}
